{
 "cells": [
  {
   "cell_type": "code",
   "execution_count": 5,
   "metadata": {},
   "outputs": [
    {
     "name": "stdout",
     "output_type": "stream",
     "text": [
      "The error is 0.03125\n",
      "The lower boundary a is 0.625 and the higher boundary is 0.65625\n",
      "The error is 0.03125\n",
      "The lower boundary a is -1.15625 and the higher boundary is -1.125\n"
     ]
    }
   ],
   "source": [
    "def bisection(func,a,b,error_accept):\n",
    "\n",
    "    def f(x):\n",
    "        f=eval(func)\n",
    "        return f\n",
    "    error=abs(b-a)\n",
    "\n",
    "    while error> error_accept:\n",
    "        c=(b+a)/2\n",
    "        if f(a)*f(b)>=0 :\n",
    "            print(\"Bisection method will not work here!\")\n",
    "        elif f(c)*f(a) <0 :\n",
    "            b=c\n",
    "            error=abs(b-a)\n",
    "        elif f(c)*f(b) <0 :\n",
    "            a=c\n",
    "            error=abs(b-a)\n",
    "        else:\n",
    "            print(\"Something went wrong!\")\n",
    "            quit()\n",
    "        \n",
    "    print(f\"The error is {error}\")\n",
    "    print(f\"The lower boundary a is {a} and the higher boundary is {b}\")\n",
    "\n",
    "bisection(\"(4*x ** 3) + 3*x -3\",0,1,0.05)\n",
    "\n",
    "bisection(\"(3*x ** 2) - 4\",-2,0,0.05)"
   ]
  },
  {
   "cell_type": "markdown",
   "metadata": {},
   "source": []
  }
 ],
 "metadata": {
  "kernelspec": {
   "display_name": "Python 3.10.6 64-bit (microsoft store)",
   "language": "python",
   "name": "python3"
  },
  "language_info": {
   "codemirror_mode": {
    "name": "ipython",
    "version": 3
   },
   "file_extension": ".py",
   "mimetype": "text/x-python",
   "name": "python",
   "nbconvert_exporter": "python",
   "pygments_lexer": "ipython3",
   "version": "3.10.6"
  },
  "orig_nbformat": 4,
  "vscode": {
   "interpreter": {
    "hash": "a97dfee85535fb1d5b47fe9558cac8ab9061198b8187c5e3fe351ac320e8c61d"
   }
  }
 },
 "nbformat": 4,
 "nbformat_minor": 2
}
